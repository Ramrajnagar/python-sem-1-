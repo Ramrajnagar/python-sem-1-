{
 "cells": [
  {
   "cell_type": "markdown",
   "metadata": {},
   "source": [
    "Question :\n",
    "Given an integer, return True if it is even, else return False.\n",
    "\n",
    "\n",
    "Logic:\n",
    "\n",
    "We will check if a integer is divisible by 2 then the integer is a even integer otherwise odd integer.\n",
    "\n",
    "Inputs and Outputs:\n",
    "\n",
    "Input: 3\n",
    "Output: entered integer is odd\n",
    "Input: 2\n",
    "Output: entered integer is even"
   ]
  },
  {
   "cell_type": "code",
   "execution_count": 1,
   "metadata": {},
   "outputs": [
    {
     "name": "stdout",
     "output_type": "stream",
     "text": [
      "5 is a odd integer \n"
     ]
    }
   ],
   "source": [
    "#without using function :\n",
    "\n",
    "integer=int(input(\"put a random integer number \"))\n",
    "\n",
    "if integer%2==0:\n",
    "    print(integer,\"is a even integer\")\n",
    "else:  \n",
    "    print(integer,\"is a odd integer \")"
   ]
  },
  {
   "cell_type": "code",
   "execution_count": 2,
   "metadata": {},
   "outputs": [
    {
     "data": {
      "text/plain": [
       "False"
      ]
     },
     "execution_count": 2,
     "metadata": {},
     "output_type": "execute_result"
    }
   ],
   "source": [
    "#with a function :\n",
    "\n",
    "def even_odd(num):\n",
    "    if num%2==0:\n",
    "        return True\n",
    "    else: \n",
    "        return False\n",
    "num=int(input(\"entre a intrger\"))\n",
    "even_odd(3)"
   ]
  }
 ],
 "metadata": {
  "kernelspec": {
   "display_name": "Python 3",
   "language": "python",
   "name": "python3"
  },
  "language_info": {
   "codemirror_mode": {
    "name": "ipython",
    "version": 3
   },
   "file_extension": ".py",
   "mimetype": "text/x-python",
   "name": "python",
   "nbconvert_exporter": "python",
   "pygments_lexer": "ipython3",
   "version": "3.12.6"
  }
 },
 "nbformat": 4,
 "nbformat_minor": 2
}
