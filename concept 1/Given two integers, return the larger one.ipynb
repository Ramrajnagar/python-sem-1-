{
 "cells": [
  {
   "cell_type": "markdown",
   "metadata": {},
   "source": [
    "Question:\n",
    "Given two integers, return the larger one.\n",
    "\n",
    "logic:\n",
    "we comparing both given integers\n",
    "\n"
   ]
  },
  {
   "cell_type": "code",
   "execution_count": 3,
   "metadata": {},
   "outputs": [
    {
     "name": "stdout",
     "output_type": "stream",
     "text": [
      "8 is the larger integer.\n"
     ]
    }
   ],
   "source": [
    "#without using function:\n",
    "\n",
    "\n",
    "# Prompt the user to enter the first integer\n",
    "int1 = int(input(\"Enter the first integer: \"))\n",
    "\n",
    "# Prompt the user to enter the second integer\n",
    "int2 = int(input(\"Enter the second integer: \"))\n",
    "\n",
    "# Compare the two integers to determine which is larger or if they are equal\n",
    "if int1 > int2:\n",
    "    # If the first integer is larger, print the result\n",
    "    print(f\"{int1} is the larger integer.\")\n",
    "elif int1 < int2:\n",
    "    # If the second integer is larger, print the result\n",
    "    print(f\"{int2} is the larger integer.\")\n",
    "else:\n",
    "    # If both integers are equal, print that they are equal\n",
    "    print(\"Both integers are equal.\")\n"
   ]
  },
  {
   "cell_type": "code",
   "execution_count": null,
   "metadata": {},
   "outputs": [
    {
     "data": {
      "text/plain": [
       "(10, 'is larger integer')"
      ]
     },
     "execution_count": 4,
     "metadata": {},
     "output_type": "execute_result"
    }
   ],
   "source": [
    "#with using a function:\n",
    "\n",
    "# Define a function named 'larger' that takes two arguments, x1 and x2\n",
    "def larger(x1, x2):\n",
    "    \n",
    "    # Check if the first number (x1) is greater than the second (x2)\n",
    "    if x1 > x2:\n",
    "        # Return x1 and a message indicating it is the larger integer\n",
    "        return x1, \"is the larger integer\"\n",
    "    \n",
    "    # Check if both numbers are equal\n",
    "    elif x1 == x2:\n",
    "        # Return a message indicating both integers are equal\n",
    "        return \"Both integers are equal\"\n",
    "    \n",
    "    # If neither of the above conditions is true, then x2 is larger\n",
    "    else:\n",
    "        # Return x2 and a message indicating it is the larger integer\n",
    "        return x2, \"is the larger integer\"\n",
    "\n",
    "# Call the 'larger' function with the values 10 and 7\n",
    "larger(10, 7)\n"
   ]
  }
 ],
 "metadata": {
  "kernelspec": {
   "display_name": "Python 3",
   "language": "python",
   "name": "python3"
  },
  "language_info": {
   "codemirror_mode": {
    "name": "ipython",
    "version": 3
   },
   "file_extension": ".py",
   "mimetype": "text/x-python",
   "name": "python",
   "nbconvert_exporter": "python",
   "pygments_lexer": "ipython3",
   "version": "3.12.6"
  }
 },
 "nbformat": 4,
 "nbformat_minor": 2
}
